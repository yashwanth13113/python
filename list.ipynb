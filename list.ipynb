{
 "cells": [
  {
   "cell_type": "code",
   "execution_count": 1,
   "metadata": {},
   "outputs": [
    {
     "name": "stdout",
     "output_type": "stream",
     "text": [
      "['prash', 'yash', 'raj', 'vinnu', 'monica']\n"
     ]
    }
   ],
   "source": [
    "famlist=['prash','yash','raj','vinnu','monica']\n",
    "print(famlist);"
   ]
  },
  {
   "cell_type": "code",
   "execution_count": 13,
   "metadata": {},
   "outputs": [
    {
     "name": "stdout",
     "output_type": "stream",
     "text": [
      "['prash', 'yash', 'raj', 'vinnu', 'monica']\n",
      "0 prash\n",
      "1 yash\n",
      "2 raj\n",
      "3 vinnu\n",
      "4 monica\n",
      "['yash', 'raj', 'vinnu', 'monica']\n"
     ]
    }
   ],
   "source": [
    "famlist=['prash','yash','raj','vinnu','monica']\n",
    "print(famlist)\n",
    "for index,indexnum in enumerate(famlist):\n",
    "    print(index,indexnum)\n",
    "famlist.pop(0);\n",
    "print(famlist)"
   ]
  },
  {
   "cell_type": "code",
   "execution_count": 5,
   "metadata": {},
   "outputs": [
    {
     "name": "stdout",
     "output_type": "stream",
     "text": [
      "0 21\n",
      "1 22\n",
      "2 23\n",
      "3 24\n",
      "4 25\n",
      "5 26\n",
      "6 27\n"
     ]
    }
   ],
   "source": [
    "mylist=[21,22,23,24,25,26,27]\n",
    "for index,num in enumerate(mylist):\n",
    "    print(index,num)"
   ]
  },
  {
   "cell_type": "code",
   "execution_count": 21,
   "metadata": {},
   "outputs": [
    {
     "name": "stdout",
     "output_type": "stream",
     "text": [
      "[0, 1, 4, 9, 16, 25, 36, 49, 64, 81]\n"
     ]
    }
   ],
   "source": [
    "#listcomprahension\n",
    "squarelist=[]\n",
    "squarelist=[num**2 for num in range(10) ]\n",
    "print(squarelist)"
   ]
  },
  {
   "cell_type": "code",
   "execution_count": 27,
   "metadata": {},
   "outputs": [
    {
     "name": "stdout",
     "output_type": "stream",
     "text": [
      "[21, 22, 23, 24, 25, 26, 27]\n",
      "[22, 23, 24, 25, 26, 27, 28]\n"
     ]
    }
   ],
   "source": [
    "mylist=[21,22,23,24,25,26,27]\n",
    "mylist2=[]\n",
    "mylist2=[num+1 for num in mylist]\n",
    "print(mylist)\n",
    "print(mylist2) "
   ]
  },
  {
   "cell_type": "code",
   "execution_count": 28,
   "metadata": {},
   "outputs": [
    {
     "name": "stdout",
     "output_type": "stream",
     "text": [
      "[0, 8, 64, 216, 512, 1000, 1728, 2744, 4096, 5832]\n"
     ]
    }
   ],
   "source": [
    "#list comprahension\n",
    "list=[]\n",
    "list=[i**3 for i in range(20) if (i%2==0)]\n",
    "print(list)\n",
    "\n",
    "\n",
    "\n"
   ]
  },
  {
   "cell_type": "markdown",
   "metadata": {},
   "source": [
    "#nestedd list\n",
    "numlist=[[9,8,7],[6,5,4],[33,2,1]];\n",
    "print(numlist[0][2])"
   ]
  },
  {
   "cell_type": "code",
   "execution_count": 32,
   "metadata": {},
   "outputs": [
    {
     "name": "stdout",
     "output_type": "stream",
     "text": [
      "['hi', 'how', 'are', 'you']\n"
     ]
    }
   ],
   "source": [
    "#nested list\n",
    "numlist2=[1,2,[4,2,5],9,4,3,[\"hi\",\"how\",'are',    'you']];\n",
    "print(numlist2[6][0:])"
   ]
  },
  {
   "cell_type": "code",
   "execution_count": 36,
   "metadata": {},
   "outputs": [
    {
     "name": "stdout",
     "output_type": "stream",
     "text": [
      "(1, 2, 3, 3, 4, 'yash')\n",
      "(1, 2, 3, 3, 4, 'yash')"
     ]
    }
   ],
   "source": [
    "#tuple\n",
    "firsttuple=(1,2,3,3,4,'yash');\n",
    "print(firsttuple);\n",
    "print(firsttuple,end=\"\");"
   ]
  },
  {
   "cell_type": "code",
   "execution_count": 46,
   "metadata": {},
   "outputs": [
    {
     "name": "stdout",
     "output_type": "stream",
     "text": [
      "(3, 4)\n",
      "8\n",
      "((8, 5, 4), (5, 4))\n"
     ]
    }
   ],
   "source": [
    "tuple=((5,4),(3,4),(8,5,4),(3,6,7));\n",
    "print(tuple[1]);#to accsess the elements of the list,tuple,set,dictionary as same like arrays in the c,java ex:-list[5],tuple[2]..\n",
    "print(tuple[2][0])\n",
    "print(tuple[::2][::-1])"
   ]
  },
  {
   "cell_type": "code",
   "execution_count": null,
   "metadata": {},
   "outputs": [],
   "source": []
  },
  {
   "cell_type": "code",
   "execution_count": null,
   "metadata": {},
   "outputs": [],
   "source": []
  },
  {
   "cell_type": "code",
   "execution_count": null,
   "metadata": {},
   "outputs": [],
   "source": []
  },
  {
   "cell_type": "code",
   "execution_count": null,
   "metadata": {},
   "outputs": [],
   "source": []
  },
  {
   "cell_type": "code",
   "execution_count": null,
   "metadata": {},
   "outputs": [],
   "source": []
  },
  {
   "cell_type": "code",
   "execution_count": null,
   "metadata": {},
   "outputs": [],
   "source": []
  }
 ],
 "metadata": {
  "kernelspec": {
   "display_name": "Python 3",
   "language": "python",
   "name": "python3"
  },
  "language_info": {
   "codemirror_mode": {
    "name": "ipython",
    "version": 3
   },
   "file_extension": ".py",
   "mimetype": "text/x-python",
   "name": "python",
   "nbconvert_exporter": "python",
   "pygments_lexer": "ipython3",
   "version": "3.12.0"
  }
 },
 "nbformat": 4,
 "nbformat_minor": 2
}
